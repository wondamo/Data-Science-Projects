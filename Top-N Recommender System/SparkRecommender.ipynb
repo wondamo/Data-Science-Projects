{
 "cells": [
  {
   "cell_type": "code",
   "execution_count": 1,
   "id": "9f5ee3d8",
   "metadata": {},
   "outputs": [],
   "source": [
    "import findspark\n",
    "findspark.init()\n",
    "\n",
    "from pyspark.sql import SparkSession\n",
    "from pyspark.sql.functions import row_number\n",
    "from pyspark.sql.window import Window\n",
    "from pyspark.ml.recommendation import ALS\n",
    "from pyspark.ml.evaluation import RegressionEvaluator\n",
    " \n",
    "spark = SparkSession.builder.appName('yelp').getOrCreate()"
   ]
  },
  {
   "cell_type": "code",
   "execution_count": 2,
   "id": "03f9b069",
   "metadata": {},
   "outputs": [],
   "source": [
    "df = spark.read.json('data/yelp_academic_dataset_review.json')"
   ]
  },
  {
   "cell_type": "code",
   "execution_count": 3,
   "id": "55c9dff6",
   "metadata": {},
   "outputs": [],
   "source": [
    "uuid = df.select('user_id').distinct()\n",
    "buid = df.select('business_id').distinct()"
   ]
  },
  {
   "cell_type": "code",
   "execution_count": 4,
   "id": "ca58784e",
   "metadata": {},
   "outputs": [],
   "source": [
    "uuid = uuid.withColumn('uuid', row_number().over(Window().ordeRo_id')))"
   ]
  },
  {
   "cell_type": "code",
   "execution_count": 5,
   "id": "243a571e",
   "metadata": {},
   "outputs": [],
   "source": [
    "df = df.join(uuid, on='user_id')\n",
    "df = df.join(buid, on='business_id')"
   ]
  },
  {
   "cell_type": "code",
   "execution_count": 6,
   "id": "8c249022",
   "metadata": {},
   "outputs": [
    {
     "data": {
      "text/plain": [
       "DataFrame[business_id: string, user_id: string, cool: bigint, date: string, funny: bigint, review_id: string, stars: double, text: string, useful: bigint, uuid: int, buid: int]"
      ]
     },
     "execution_count": 6,
     "metadata": {},
     "output_type": "execute_result"
    }
   ],
   "source": [
    "df"
   ]
  },
  {
   "cell_type": "code",
   "execution_count": null,
   "id": "8627dd87",
   "metadata": {},
   "outputs": [],
   "source": [
    "train, test = df.randomSplit([0.8, 0.2])"
   ]
  },
  {
   "cell_type": "code",
   "execution_count": 8,
   "id": "3411c501",
   "metadata": {},
   "outputs": [],
   "source": [
    "als = ALS(userCol='uuid', itemCol='buid', ratingCol='stars', coldStartStrategy='drop', maxIter=5, regParam=0.01)\n",
    "evaluator = RegressionEvaluator(metricName='rmse', predictionCol='prediction', labelCol='stars')"
   ]
  },
  {
   "cell_type": "code",
   "execution_count": 9,
   "id": "1b38f32a",
   "metadata": {},
   "outputs": [],
   "source": [
    "model = als.fit(train)\n",
    "predictions = model.transform(test)"
   ]
  },
  {
   "cell_type": "code",
   "execution_count": 10,
   "id": "735a3850",
   "metadata": {},
   "outputs": [],
   "source": [
    "rmse = evaluator.evaluate(predictions)"
   ]
  },
  {
   "cell_type": "code",
   "execution_count": 11,
   "id": "9b617f6a",
   "metadata": {},
   "outputs": [
    {
     "name": "stdout",
     "output_type": "stream",
     "text": [
      "Root Mean Squared Error: 3.7951497787258592\n"
     ]
    }
   ],
   "source": [
    "print(f\"Root Mean Squared Error: {rmse}\")"
   ]
  },
  {
   "cell_type": "code",
   "execution_count": null,
   "id": "0fddf45c",
   "metadata": {},
   "outputs": [],
   "source": [
    "recom = model.recommendForAllUsers(10)"
   ]
  }
 ],
 "metadata": {
  "kernelspec": {
   "display_name": "Python 3 (ipykernel)",
   "language": "python",
   "name": "python3"
  },
  "language_info": {
   "codemirror_mode": {
    "name": "ipython",
    "version": 3
   },
   "file_extension": ".py",
   "mimetype": "text/x-python",
   "name": "python",
   "nbconvert_exporter": "python",
   "pygments_lexer": "ipython3",
   "version": "3.9.13"
  }
 },
 "nbformat": 4,
 "nbformat_minor": 5
}
