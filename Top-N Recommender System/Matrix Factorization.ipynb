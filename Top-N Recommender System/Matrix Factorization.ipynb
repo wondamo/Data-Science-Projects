{
 "cells": [
  {
   "cell_type": "code",
   "execution_count": 7,
   "id": "d19a8640",
   "metadata": {},
   "outputs": [],
   "source": [
    "from Data_split import Data\n",
    "from evaluate import Evaluate\n",
    "from Movies import Movie\n",
    "from surprise import NMF, SVD, SVDpp"
   ]
  },
  {
   "cell_type": "code",
   "execution_count": 2,
   "id": "17b90cbb",
   "metadata": {},
   "outputs": [
    {
     "name": "stdout",
     "output_type": "stream",
     "text": [
      "<class 'pandas.core.frame.DataFrame'>\n",
      "RangeIndex: 1682 entries, 0 to 1681\n",
      "Data columns (total 2 columns):\n",
      " #   Column   Non-Null Count  Dtype \n",
      "---  ------   --------------  ----- \n",
      " 0   item_id  1682 non-null   int64 \n",
      " 1   title    1682 non-null   object\n",
      "dtypes: int64(1), object(1)\n",
      "memory usage: 26.4+ KB\n",
      "None\n"
     ]
    }
   ],
   "source": [
    "mv = Movie()\n",
    "data = Data(mv.load_ratings())"
   ]
  },
  {
   "cell_type": "code",
   "execution_count": 3,
   "id": "9e53f642",
   "metadata": {},
   "outputs": [],
   "source": [
    "algo = NMF()"
   ]
  },
  {
   "cell_type": "code",
   "execution_count": 4,
   "id": "09b6316f",
   "metadata": {},
   "outputs": [],
   "source": [
    "evaluate = Evaluate(algo, data)"
   ]
  },
  {
   "cell_type": "code",
   "execution_count": 5,
   "id": "25b52bb4",
   "metadata": {},
   "outputs": [
    {
     "name": "stdout",
     "output_type": "stream",
     "text": [
      "RMSE >>> 0.9607392151773297\n",
      "MAE >>> 0.7580765900527702\n",
      "HitRate >>> 0.00423728813559322\n"
     ]
    }
   ],
   "source": [
    "evaluate.Evaluate()"
   ]
  },
  {
   "cell_type": "code",
   "execution_count": 8,
   "id": "e0e93bb4",
   "metadata": {},
   "outputs": [],
   "source": [
    "algo1, algo2 = SVD(), SVDpp()"
   ]
  },
  {
   "cell_type": "code",
   "execution_count": 9,
   "id": "c5771c9d",
   "metadata": {},
   "outputs": [],
   "source": [
    "evaluate1, evaluate2 = Evaluate(algo1, data), Evaluate(algo2, data)"
   ]
  },
  {
   "cell_type": "code",
   "execution_count": 10,
   "id": "8257a9bd",
   "metadata": {},
   "outputs": [
    {
     "name": "stdout",
     "output_type": "stream",
     "text": [
      "RMSE >>> 0.930697423191211\n",
      "MAE >>> 0.7354035487039816\n",
      "HitRate >>> 0.034957627118644065\n"
     ]
    }
   ],
   "source": [
    "evaluate1.Evaluate()"
   ]
  },
  {
   "cell_type": "code",
   "execution_count": 11,
   "id": "51264328",
   "metadata": {},
   "outputs": [
    {
     "name": "stdout",
     "output_type": "stream",
     "text": [
      "RMSE >>> 0.9121781038550136\n",
      "MAE >>> 0.7181859256970038\n",
      "HitRate >>> 0.05084745762711865\n"
     ]
    }
   ],
   "source": [
    "evaluate2.Evaluate()"
   ]
  },
  {
   "cell_type": "code",
   "execution_count": null,
   "id": "79e43c13",
   "metadata": {},
   "outputs": [],
   "source": []
  }
 ],
 "metadata": {
  "kernelspec": {
   "display_name": "Python 3 (ipykernel)",
   "language": "python",
   "name": "python3"
  },
  "language_info": {
   "codemirror_mode": {
    "name": "ipython",
    "version": 3
   },
   "file_extension": ".py",
   "mimetype": "text/x-python",
   "name": "python",
   "nbconvert_exporter": "python",
   "pygments_lexer": "ipython3",
   "version": "3.9.13"
  }
 },
 "nbformat": 4,
 "nbformat_minor": 5
}
